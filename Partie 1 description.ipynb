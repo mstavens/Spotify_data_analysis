{
 "cells": [
  {
   "cell_type": "markdown",
   "id": "77576e72",
   "metadata": {},
   "source": [
    "# Partie 1: Analyse descriptive des bases et visualisation:"
   ]
  },
  {
   "cell_type": "code",
   "execution_count": 9,
   "id": "ce2dd9f2",
   "metadata": {},
   "outputs": [
    {
     "data": {
      "image/png": "[encoded data removed]",
      "text/plain": [
       "<Figure size 432x288 with 1 Axes>"
      ]
     },
     "metadata": {
      "needs_background": "light"
     },
     "output_type": "display_data"
    }
   ],
   "source": [
    "import matplotlib.pyplot as plt\n",
    "import numpy as np\n",
    "\n",
    "# Données\n",
    "categories = ['A', 'B', 'C', 'D', 'E', 'F', 'G', 'H', 'I', 'J', 'K']\n",
    "valeurs = np.random.rand(len(categories))\n",
    "\n",
    "# Créer le graphique à barres\n",
    "plt.bar(categories, valeurs, color=plt.cm.gist_rainbow(np.linspace(0, 1, len(categories))))\n",
    "\n",
    "# Afficher le graphique\n",
    "plt.show()\n"
   ]
  },
  {
   "cell_type": "code",
   "execution_count": 7,
   "id": "c07aa794",
   "metadata": {},
   "outputs": [
    {
     "data": {
      "image/png": "[encoded data removed]",
      "text/plain": [
       "<Figure size 432x288 with 1 Axes>"
      ]
     },
     "metadata": {
      "needs_background": "light"
     },
     "output_type": "display_data"
    }
   ],
   "source": [
    "\n",
    "\n",
    "# Données\n",
    "valeurs = [1, 2, 3, 4, 5]\n",
    "\n",
    "# Créer le graphique\n",
    "plt.plot(valeurs)\n",
    "\n",
    "# Inverser l'axe des x\n",
    "plt.gca().invert_xaxis()\n",
    "\n",
    "# Afficher le graphique\n",
    "plt.show()\n"
   ]
  },
  {
   "cell_type": "markdown",
   "id": "851bc8c5",
   "metadata": {},
   "source": [
    "# Sommaire\n",
    "\n",
    "1.-[Présentation des bases de données](#Présentation-des-bases-de-données)\n",
    "\n",
    " A.-[Descriptions Statistiques](Descriptions-statistiques)\n",
    "   \n",
    "  - [Base de données des artistes](Base-de-données-des-artistes)\n",
    "       \n",
    "  - [Base de données des morceaux](Base-de-données-des-morceaux)\n",
    "   \n",
    "  - [Base de données des top 200 spotify](Base-de-données-des-top-200-spotify)\n",
    "   \n",
    "2.- [Question 1](Question-1)\n",
    "   \n",
    "3.-[Question 2](Question-2)\n",
    "   \n",
    "4.- [Question 3](Question-3)\n",
    "  \n",
    "5.- [ Question 4 ](Question-4)"
   ]
  },
  {
   "cell_type": "code",
   "execution_count": 6,
   "id": "4e1f0a8f",
   "metadata": {},
   "outputs": [],
   "source": [
    "#Importation des modules nécessaires pour l'analyse des données et la visualisation\n",
    "import pandas as pd\n",
    "import matplotlib.pyplot as plt\n",
    "from typing import List \n",
    "import seaborn as sns "
   ]
  },
  {
   "cell_type": "markdown",
   "id": "2a0ce9a1",
   "metadata": {},
   "source": [
    "### 1.-Présentation des bases de données \n",
    "\n",
    "#### Nous allons procéder à l'analyse de nos différentes bases de données séparément"
   ]
  },
  {
   "cell_type": "code",
   "execution_count": 8,
   "id": "a63ff337",
   "metadata": {
    "scrolled": true
   },
   "outputs": [],
   "source": [
    "#Importation de la base de données artists\n",
    "data_artist = pd.read_csv(\"C:\\\\Users\\\\jeann\\\\Downloads\\\\SUJET1_Lamour_Ayrapetyan_Tavsiev_Chekalina\\\\Datasets\\\\artists.csv\")"
   ]
  },
  {
   "cell_type": "markdown",
   "id": "8f8f527b",
   "metadata": {},
   "source": [
    "### Analyse descriptive de la base des données artists"
   ]
  },
  {
   "cell_type": "code",
   "execution_count": null,
   "id": "701bf933",
   "metadata": {},
   "outputs": [],
   "source": [
    "data_artist.head()"
   ]
  }
 ],
 "metadata": {
  "kernelspec": {
   "display_name": "Python 3 (ipykernel)",
   "language": "python",
   "name": "python3"
  },
  "language_info": {
   "codemirror_mode": {
    "name": "ipython",
    "version": 3
   },
   "file_extension": ".py",
   "mimetype": "text/x-python",
   "name": "python",
   "nbconvert_exporter": "python",
   "pygments_lexer": "ipython3",
   "version": "3.9.7"
  }
 },
 "nbformat": 4,
 "nbformat_minor": 5
}
